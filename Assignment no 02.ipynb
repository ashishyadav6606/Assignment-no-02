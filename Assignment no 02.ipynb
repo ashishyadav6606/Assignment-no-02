{
 "cells": [
  {
   "cell_type": "code",
   "execution_count": null,
   "id": "45e8e272",
   "metadata": {},
   "outputs": [],
   "source": [
    "#Ans 01.\n",
    "\n",
    "marks=int(input(\"Enter the your  marks\"))\n",
    "if marks>90:\n",
    "    print(\"your grade is:A\")\n",
    "elif marks>80 and marks<=90:\n",
    "    print(\"your grade is:B\")\n",
    "elif marks>=60 and marks<=80:\n",
    "    print(\"your grade is:C\")\n",
    "else:\n",
    "    print(\"your grade is:D\")\n",
    "    "
   ]
  },
  {
   "cell_type": "code",
   "execution_count": null,
   "id": "e64cf925",
   "metadata": {},
   "outputs": [],
   "source": [
    "#Ans 02.\n",
    "\n",
    "CostPrice=int(input(\"Enter the cost price of a bike\"))\n",
    "if CostPrice>100000:\n",
    "    print(\"the road tax is: 15%\")\n",
    "elif CostPrice>50000 and CostPrice<=100000:\n",
    "    print(\"the road tax is:10%\")\n",
    "elif CostPrice<=50000:\n",
    "    print(\"the road tax is:5%\")\n"
   ]
  },
  {
   "cell_type": "code",
   "execution_count": null,
   "id": "1c3a42c5",
   "metadata": {},
   "outputs": [],
   "source": [
    "#Ans 03.\n",
    "\n",
    "user=input(\"enter the city\")\n",
    "if user==\"city\": \n",
    "    print(\"Monument\")\n",
    "elif user==\"Delhi\":\n",
    "    print(\"Red Fort\")\n",
    "elif user==\"Agra\":\n",
    "    print(\"Taj Mahal\")\n",
    "elif user==\"Jaipur\":\n",
    "    print(\"Jal Mahal\")\n"
   ]
  },
  {
   "cell_type": "code",
   "execution_count": null,
   "id": "ab168cdd",
   "metadata": {},
   "outputs": [],
   "source": [
    "#Ans 04.\n",
    "\n",
    "number=int(input(\"enter the number\"))\n",
    "if number%3==0:\n",
    "    print(\"yes\")\n",
    "else:    \n",
    "    print(\"no\")\n",
    "    "
   ]
  },
  {
   "cell_type": "code",
   "execution_count": null,
   "id": "3cc0d50e",
   "metadata": {},
   "outputs": [],
   "source": [
    "#Ans 05.\n",
    "\n",
    "#Python while loop is used to run a block code until a certain condition is met. Here, A while loop evaluates the condition. If the condition evaluates to True , the code inside the while loop is executed.\n",
    "n=5\n",
    "i=1\n",
    "while i<n:\n",
    "    print(i)\n",
    "    i=i+1"
   ]
  },
  {
   "cell_type": "code",
   "execution_count": null,
   "id": "51ca08d1",
   "metadata": {},
   "outputs": [],
   "source": [
    "#Ans 06.\n",
    "\n",
    "i=1\n",
    "while i<=5:\n",
    "    j=1\n",
    "    while j<=i:\n",
    "        print(j,end=\" \")\n",
    "        j=j+1\n",
    "    print(\"\")\n",
    "    i=i+1"
   ]
  },
  {
   "cell_type": "code",
   "execution_count": null,
   "id": "722aa7cc",
   "metadata": {},
   "outputs": [],
   "source": [
    "#Ans 07.\n",
    "i=10\n",
    "while i<10\n",
    "print(i)\n",
    "i=i-1\n",
    "\n"
   ]
  },
  {
   "cell_type": "code",
   "execution_count": null,
   "id": "ae3f7733",
   "metadata": {},
   "outputs": [],
   "source": [
    "#Ans 08.\n",
    "\n",
    "i=10\n",
    "while i<10\n",
    "print(i)\n",
    "i=i-1\n"
   ]
  }
 ],
 "metadata": {
  "kernelspec": {
   "display_name": "Python 3 (ipykernel)",
   "language": "python",
   "name": "python3"
  },
  "language_info": {
   "codemirror_mode": {
    "name": "ipython",
    "version": 3
   },
   "file_extension": ".py",
   "mimetype": "text/x-python",
   "name": "python",
   "nbconvert_exporter": "python",
   "pygments_lexer": "ipython3",
   "version": "3.11.1"
  }
 },
 "nbformat": 4,
 "nbformat_minor": 5
}
